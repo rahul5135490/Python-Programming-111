{
 "cells": [
  {
   "cell_type": "code",
   "execution_count": 3,
   "id": "530c0e6f",
   "metadata": {},
   "outputs": [
    {
     "name": "stdout",
     "output_type": "stream",
     "text": [
      "Enter your value: 44\n",
      "44\n"
     ]
    }
   ],
   "source": [
    "# Python program showing\n",
    "# a use of input()\n",
    " \n",
    "val = input(\"Enter your value: \")\n",
    "print(val)"
   ]
  },
  {
   "cell_type": "code",
   "execution_count": 4,
   "id": "c670574c",
   "metadata": {},
   "outputs": [
    {
     "name": "stdout",
     "output_type": "stream",
     "text": [
      "What is your name?\n",
      "rahul\n",
      "rahul\n"
     ]
    }
   ],
   "source": [
    "name = input('What is your name?\\n')     # \\n ---> newline  ---> It causes a line break\n",
    "print(name)"
   ]
  },
  {
   "cell_type": "code",
   "execution_count": 5,
   "id": "02af9d17",
   "metadata": {},
   "outputs": [
    {
     "name": "stdout",
     "output_type": "stream",
     "text": [
      "Enter number :44\n",
      "44\n",
      "Enter name : ramu\n",
      "ramu\n",
      "type of number <class 'str'>\n",
      "type of name <class 'str'>\n"
     ]
    }
   ],
   "source": [
    "# Program to check input\n",
    "# type in Python\n",
    " \n",
    "num = input (\"Enter number :\")\n",
    "print(num)\n",
    "name1 = input(\"Enter name : \")\n",
    "print(name1)\n",
    " \n",
    "# Printing type of input value\n",
    "print (\"type of number\", type(num))\n",
    "print (\"type of name\", type(name1))"
   ]
  },
  {
   "cell_type": "code",
   "execution_count": 6,
   "id": "27318fd6",
   "metadata": {},
   "outputs": [
    {
     "name": "stdout",
     "output_type": "stream",
     "text": [
      "12\n",
      "56\n",
      "68\n"
     ]
    }
   ],
   "source": [
    "# input\n",
    "num1 = int(input())\n",
    "num2 = int(input())\n",
    " \n",
    "# printing the sum in integer\n",
    "print(num1 + num2)"
   ]
  },
  {
   "cell_type": "code",
   "execution_count": null,
   "id": "b67b4b00",
   "metadata": {},
   "outputs": [
    {
     "name": "stdout",
     "output_type": "stream",
     "text": [
      "acg\n",
      "acg\n"
     ]
    }
   ],
   "source": [
    "# input\n",
    "string = str(input())\n",
    " \n",
    "# output\n",
    "print(string)\n",
    " \n",
    "# Or by default\n",
    "string_default = input()\n",
    " \n",
    "# output\n",
    "print(string_default)"
   ]
  },
  {
   "cell_type": "code",
   "execution_count": 6,
   "id": "c6ab34e1",
   "metadata": {},
   "outputs": [
    {
     "name": "stdout",
     "output_type": "stream",
     "text": [
      "3>>>2>>>1>>>Start\n"
     ]
    }
   ],
   "source": [
    "import time\n",
    " \n",
    "count_seconds = 3\n",
    "for i in reversed(range(count_seconds + 1)):\n",
    "    if i > 0:\n",
    "        print(i, end='>>>')\n",
    "        time.sleep(1)\n",
    "    else:\n",
    "        print('Start')"
   ]
  },
  {
   "cell_type": "code",
   "execution_count": 7,
   "id": "33282e4f",
   "metadata": {},
   "outputs": [
    {
     "name": "stdout",
     "output_type": "stream",
     "text": [
      "3>>>2>>>1>>>Start\n"
     ]
    }
   ],
   "source": [
    "import time\n",
    " \n",
    "count_seconds = 3\n",
    "for i in reversed(range(count_seconds + 1)):\n",
    "    if i > 0:\n",
    "        print(i, end='>>>', flush = True)\n",
    "        time.sleep(1)\n",
    "    else:\n",
    "        print('Start')"
   ]
  },
  {
   "cell_type": "code",
   "execution_count": 8,
   "id": "353eca2f",
   "metadata": {},
   "outputs": [
    {
     "name": "stdout",
     "output_type": "stream",
     "text": [
      "12-12-2022\n"
     ]
    }
   ],
   "source": [
    "a=12\n",
    "b=12\n",
    "c=2022\n",
    "print(a,b,c,sep=\"-\")"
   ]
  },
  {
   "cell_type": "code",
   "execution_count": 9,
   "id": "11cd51da",
   "metadata": {},
   "outputs": [
    {
     "data": {
      "text/plain": [
       "'Hello Geeks!!\\n'"
      ]
     },
     "execution_count": 9,
     "metadata": {},
     "output_type": "execute_result"
    }
   ],
   "source": [
    "import io\n",
    " \n",
    "# declare a dummy file\n",
    "dummy_file = io.StringIO()\n",
    " \n",
    "# add message to the dummy file\n",
    "print('Hello Geeks!!', file=dummy_file)\n",
    " \n",
    "# get the value from dummy file\n",
    "dummy_file.getvalue()"
   ]
  },
  {
   "cell_type": "code",
   "execution_count": 10,
   "id": "29950358",
   "metadata": {},
   "outputs": [
    {
     "name": "stdout",
     "output_type": "stream",
     "text": [
      "Welcome to GeeksforGeeks "
     ]
    }
   ],
   "source": [
    "# ends the output with a space\n",
    "print(\"Welcome to\", end = ' ')\n",
    "print(\"GeeksforGeeks\", end= ' ')"
   ]
  },
  {
   "cell_type": "code",
   "execution_count": 11,
   "id": "2b051248",
   "metadata": {},
   "outputs": [
    {
     "name": "stdout",
     "output_type": "stream",
     "text": [
      "Python@GeeksforGeeks\n"
     ]
    }
   ],
   "source": [
    "# ends the output with '@'\n",
    "print(\"Python\", end='@')\n",
    "print(\"GeeksforGeeks\")"
   ]
  },
  {
   "cell_type": "code",
   "execution_count": 12,
   "id": "585d37c4",
   "metadata": {},
   "outputs": [
    {
     "name": "stdout",
     "output_type": "stream",
     "text": [
      "GFG\n",
      "09-12-2016\n",
      "Red,Green,Blue@geeksforgeeks\n"
     ]
    }
   ],
   "source": [
    "print('G','F', sep='', end='')\n",
    "print('G')\n",
    "#\\n provides new line after printing the year\n",
    "print('09','12','2016', sep='-', end='\\n')\n",
    "  \n",
    "print('Red','Green','Blue', sep=',', end='@')\n",
    "print('geeksforgeeks')"
   ]
  },
  {
   "cell_type": "code",
   "execution_count": 14,
   "id": "b211c51a",
   "metadata": {},
   "outputs": [
    {
     "name": "stdout",
     "output_type": "stream",
     "text": [
      "G  F  G\n",
      "09-12-2016\n",
      "pratik@geeksforgeeks\n"
     ]
    }
   ],
   "source": [
    "#code for disabling the softspace feature\n",
    "print('G','F','G', sep='  ')\n",
    " \n",
    "#for formatting a date\n",
    "print('09','12','2016', sep='-')\n",
    " \n",
    "#another example\n",
    "print('pratik','geeksforgeeks', sep='@')"
   ]
  },
  {
   "cell_type": "code",
   "execution_count": 15,
   "id": "289c46e3",
   "metadata": {},
   "outputs": [
    {
     "name": "stdout",
     "output_type": "stream",
     "text": [
      "GFG\n",
      "09-12-2016\n",
      "pratik@geeksforgeeks\n"
     ]
    }
   ],
   "source": [
    "#code for disabling the softspace feature\n",
    "print('G','F','G', sep='')\n",
    " \n",
    "#for formatting a date\n",
    "print('09','12','2016', sep='-')\n",
    " \n",
    "#another example\n",
    "print('pratik','geeksforgeeks', sep='@')"
   ]
  },
  {
   "cell_type": "code",
   "execution_count": 21,
   "id": "abcf94e1",
   "metadata": {},
   "outputs": [
    {
     "name": "stdout",
     "output_type": "stream",
     "text": [
      "[1, 'a', 'string', 3]\n",
      "[1, 'a', 'string', 3, 6]\n",
      "[1, 'a', 'string', 3]\n",
      "a\n",
      "[1, 'a', 'string', 3, 1]\n"
     ]
    }
   ],
   "source": [
    "# Declaring a list\n",
    "L = [1, \"a\" , \"string\" , 1+2]\n",
    "print(L) \n",
    "#Adding an element in the list\n",
    "L.append(6)    \n",
    "print (L)\n",
    "#Deleting last element from a list\n",
    "L.pop()\n",
    "print (L)\n",
    "#Displaying Second element of the list\n",
    "print (L[1])\n",
    "L.append(1)\n",
    "print(L)"
   ]
  },
  {
   "cell_type": "code",
   "execution_count": 22,
   "id": "8e8b8591",
   "metadata": {},
   "outputs": [
    {
     "name": "stdout",
     "output_type": "stream",
     "text": [
      "(1, 'a', 'string', 3)\n",
      "a\n"
     ]
    }
   ],
   "source": [
    "tup = (1, \"a\", \"string\", 1+2)\n",
    "print(tup)\n",
    "print(tup[1])"
   ]
  },
  {
   "cell_type": "code",
   "execution_count": 23,
   "id": "eb84f332",
   "metadata": {},
   "outputs": [
    {
     "name": "stdout",
     "output_type": "stream",
     "text": [
      "1\n",
      "2\n",
      "3\n",
      "4\n",
      "5\n",
      "6\n",
      "7\n",
      "8\n",
      "9\n"
     ]
    }
   ],
   "source": [
    "i = 1\n",
    "while (i < 10):\n",
    "    print(i)\n",
    "    i += 1"
   ]
  },
  {
   "cell_type": "code",
   "execution_count": 24,
   "id": "5dd4d21e",
   "metadata": {},
   "outputs": [
    {
     "name": "stdout",
     "output_type": "stream",
     "text": [
      "\n",
      "Dictionary with the use of Integer Keys: \n",
      "{1: 'Geeks', 2: 'For', 3: 'Geeks'}\n",
      "\n",
      "Dictionary with the use of Mixed Keys: \n",
      "{'Name': 'Geeks', 1: [1, 2, 3, 4]}\n"
     ]
    }
   ],
   "source": [
    "# Creating a Dictionary\n",
    "# with Integer Keys\n",
    "Dict = {1: 'Geeks', 2: 'For', 3: 'Geeks'}\n",
    "print(\"\\nDictionary with the use of Integer Keys: \")\n",
    "print(Dict)\n",
    "  \n",
    "# Creating a Dictionary\n",
    "# with Mixed keys\n",
    "Dict = {'Name': 'Geeks', 1: [1, 2, 3, 4]}\n",
    "print(\"\\nDictionary with the use of Mixed Keys: \")\n",
    "print(Dict)"
   ]
  },
  {
   "cell_type": "code",
   "execution_count": 25,
   "id": "6a36d165",
   "metadata": {},
   "outputs": [
    {
     "name": "stdout",
     "output_type": "stream",
     "text": [
      "Empty Dictionary: \n",
      "{}\n",
      "\n",
      "Dictionary with the use of dict(): \n",
      "{1: 'Geeks', 2: 'For', 3: 'Geeks'}\n",
      "\n",
      "Dictionary with each item as a pair: \n",
      "{1: 'Geeks', 2: 'For'}\n"
     ]
    }
   ],
   "source": [
    "# Creating an empty Dictionary\n",
    "Dict = {}\n",
    "print(\"Empty Dictionary: \")\n",
    "print(Dict)\n",
    "  \n",
    "# Creating a Dictionary\n",
    "# with dict() method\n",
    "Dict = dict({1: 'Geeks', 2: 'For', 3: 'Geeks'})\n",
    "print(\"\\nDictionary with the use of dict(): \")\n",
    "print(Dict)\n",
    "  \n",
    "# Creating a Dictionary\n",
    "# with each item as a Pair\n",
    "Dict = dict([(1, 'Geeks'), (2, 'For')])\n",
    "print(\"\\nDictionary with each item as a pair: \")\n",
    "print(Dict)"
   ]
  },
  {
   "cell_type": "code",
   "execution_count": 26,
   "id": "a7685bf2",
   "metadata": {},
   "outputs": [
    {
     "name": "stdout",
     "output_type": "stream",
     "text": [
      "{1: 'Geeks', 2: 'For', 3: {'A': 'Welcome', 'B': 'To', 'C': 'Geeks'}}\n"
     ]
    }
   ],
   "source": [
    "# Creating a Nested Dictionary\n",
    "# as shown in the below image\n",
    "Dict = {1: 'Geeks', 2: 'For',\n",
    "        3: {'A': 'Welcome', 'B': 'To', 'C': 'Geeks'}}\n",
    "  \n",
    "print(Dict)"
   ]
  },
  {
   "cell_type": "code",
   "execution_count": 28,
   "id": "220b0415",
   "metadata": {},
   "outputs": [
    {
     "name": "stdout",
     "output_type": "stream",
     "text": [
      "{1: 'Python', 2: 'Java', 3: 'Ruby', 4: 'Scala'}\n",
      "{}\n",
      "Python\n",
      "dict_items([(1, 'Python'), (2, 'Java'), (3, 'Ruby'), (4, 'Scala')])\n",
      "dict_keys([1, 2, 3, 4])\n",
      "{1: 'Python', 2: 'Java', 3: 'Ruby'}\n",
      "{1: 'Python', 2: 'Java'}\n",
      "{1: 'Python', 2: 'Java', 3: 'Scala'}\n",
      "dict_values(['Python', 'Java', 'Scala'])\n"
     ]
    }
   ],
   "source": [
    " #demo for all dictionary methods\n",
    "dict1 = {1: \"Python\", 2: \"Java\", 3: \"Ruby\", 4: \"Scala\"}\n",
    "  \n",
    "# copy() method\n",
    "dict2 = dict1.copy()\n",
    "print(dict2)\n",
    "  \n",
    "# clear() method\n",
    "dict1.clear()\n",
    "print(dict1)\n",
    "  \n",
    "# get() method\n",
    "print(dict2.get(1))\n",
    "  \n",
    "# items() method\n",
    "print(dict2.items())\n",
    "  \n",
    "# keys() method\n",
    "print(dict2.keys())\n",
    "  \n",
    "# pop() method\n",
    "dict2.pop(4)\n",
    "print(dict2)\n",
    "  \n",
    "# popitem() method\n",
    "dict2.popitem()\n",
    "print(dict2)\n",
    "  \n",
    "# update() method\n",
    "dict2.update({3: \"Scala\"})\n",
    "print(dict2)\n",
    "  \n",
    "# values() method\n",
    "print(dict2.values())"
   ]
  },
  {
   "cell_type": "code",
   "execution_count": 29,
   "id": "1884cef1",
   "metadata": {},
   "outputs": [
    {
     "name": "stdout",
     "output_type": "stream",
     "text": [
      "{1: 'Python', 2: 'Java', 3: 'Ruby', 4: 'Scala'}\n"
     ]
    }
   ],
   "source": [
    "# demo for all dictionary methods\n",
    "dict1 = {1: \"Python\", 2: \"Java\", 3: \"Ruby\", 4: \"Scala\"}\n",
    "  \n",
    "# copy() method\n",
    "dict2 = dict1.copy()\n",
    "print(dict2)"
   ]
  },
  {
   "cell_type": "code",
   "execution_count": 30,
   "id": "fa836927",
   "metadata": {},
   "outputs": [
    {
     "name": "stdout",
     "output_type": "stream",
     "text": [
      "{}\n"
     ]
    }
   ],
   "source": [
    "# clear() method\n",
    "dict1.clear()\n",
    "print(dict1)"
   ]
  },
  {
   "cell_type": "code",
   "execution_count": 31,
   "id": "e37e4274",
   "metadata": {},
   "outputs": [
    {
     "name": "stdout",
     "output_type": "stream",
     "text": [
      "Python\n"
     ]
    }
   ],
   "source": [
    "# get() method\n",
    "print(dict2.get(1))"
   ]
  },
  {
   "cell_type": "code",
   "execution_count": 32,
   "id": "91be66b2",
   "metadata": {},
   "outputs": [
    {
     "name": "stdout",
     "output_type": "stream",
     "text": [
      "dict_items([(1, 'Python'), (2, 'Java'), (3, 'Ruby'), (4, 'Scala')])\n"
     ]
    }
   ],
   "source": [
    "# items() method\n",
    "print(dict2.items())"
   ]
  },
  {
   "cell_type": "code",
   "execution_count": 33,
   "id": "a1f1017a",
   "metadata": {},
   "outputs": [
    {
     "name": "stdout",
     "output_type": "stream",
     "text": [
      "dict_keys([1, 2, 3, 4])\n"
     ]
    }
   ],
   "source": [
    "# keys() method\n",
    "print(dict2.keys())"
   ]
  },
  {
   "cell_type": "code",
   "execution_count": 34,
   "id": "da3ecaab",
   "metadata": {},
   "outputs": [
    {
     "name": "stdout",
     "output_type": "stream",
     "text": [
      "{1: 'Python', 2: 'Java', 3: 'Ruby'}\n"
     ]
    }
   ],
   "source": [
    "# pop() method\n",
    "dict2.pop(4)\n",
    "print(dict2)"
   ]
  },
  {
   "cell_type": "code",
   "execution_count": 35,
   "id": "899246d6",
   "metadata": {},
   "outputs": [
    {
     "name": "stdout",
     "output_type": "stream",
     "text": [
      "{1: 'Python', 2: 'Java'}\n"
     ]
    }
   ],
   "source": [
    "# popitem() method\n",
    "dict2.popitem()\n",
    "print(dict2)"
   ]
  },
  {
   "cell_type": "code",
   "execution_count": 36,
   "id": "7d46fea8",
   "metadata": {},
   "outputs": [
    {
     "name": "stdout",
     "output_type": "stream",
     "text": [
      "{1: 'Python', 2: 'Java', 3: 'Scala'}\n"
     ]
    }
   ],
   "source": [
    "# update() method\n",
    "dict2.update({3: \"Scala\"})\n",
    "print(dict2)"
   ]
  },
  {
   "cell_type": "code",
   "execution_count": 37,
   "id": "72a5977f",
   "metadata": {},
   "outputs": [
    {
     "name": "stdout",
     "output_type": "stream",
     "text": [
      "dict_values(['Python', 'Java', 'Scala'])\n"
     ]
    }
   ],
   "source": [
    "# values() method\n",
    "print(dict2.values())"
   ]
  },
  {
   "cell_type": "code",
   "execution_count": 38,
   "id": "38146af8",
   "metadata": {},
   "outputs": [
    {
     "name": "stdout",
     "output_type": "stream",
     "text": [
      "b is divisible by a\n"
     ]
    }
   ],
   "source": [
    "a = 3\n",
    "b = 9\n",
    "if b % a == 0 :\n",
    "    print (\"b is divisible by a\")\n",
    "elif b + 1 == 10:\n",
    "    print (\"Increment in b produces 10\")\n",
    "else:\n",
    "    print (\"You are in else statement\")"
   ]
  },
  {
   "cell_type": "code",
   "execution_count": 39,
   "id": "2dbd4296",
   "metadata": {},
   "outputs": [
    {
     "name": "stdout",
     "output_type": "stream",
     "text": [
      "a is divisible by b\n"
     ]
    }
   ],
   "source": [
    "# Function for checking the divisibility\n",
    "# Notice the indentation after function declaration\n",
    "# and if and else statements\n",
    "def checkDivisibility(a, b):\n",
    "    if a % b == 0 :\n",
    "        print (\"a is divisible by b\")\n",
    "    else:\n",
    "        print (\"a is not divisible by b\")\n",
    "#Driver program to test the above function\n",
    "checkDivisibility(4, 2)"
   ]
  },
  {
   "cell_type": "code",
   "execution_count": null,
   "id": "d29947fc",
   "metadata": {},
   "outputs": [],
   "source": []
  }
 ],
 "metadata": {
  "kernelspec": {
   "display_name": "Python 3 (ipykernel)",
   "language": "python",
   "name": "python3"
  },
  "language_info": {
   "codemirror_mode": {
    "name": "ipython",
    "version": 3
   },
   "file_extension": ".py",
   "mimetype": "text/x-python",
   "name": "python",
   "nbconvert_exporter": "python",
   "pygments_lexer": "ipython3",
   "version": "3.9.13"
  }
 },
 "nbformat": 4,
 "nbformat_minor": 5
}
